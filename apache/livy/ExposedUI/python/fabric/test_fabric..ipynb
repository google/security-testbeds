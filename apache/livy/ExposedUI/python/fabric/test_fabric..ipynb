{
 "cells": [
  {
   "cell_type": "markdown",
   "metadata": {},
   "source": [
    "## Authenticate and Request a token"
   ]
  },
  {
   "cell_type": "code",
   "execution_count": 1,
   "metadata": {},
   "outputs": [],
   "source": [
    "from msal import PublicClientApplication\n",
    "from dotenv import load_dotenv\n",
    "import os\n",
    "import requests\n",
    "import time\n",
    "\n",
    "# Load environment variables from .env file\n",
    "load_dotenv()\n",
    "tenant_id = os.getenv('TENANT_ID')\n",
    "client_id = os.getenv('CLIENT_ID')\n",
    "workspace_id = os.getenv('WORKSPACE_ID')\n",
    "lakehouse_id = os.getenv('LAKEHOUSE_ID')\n",
    "redirect_url_port = os.getenv('REDIRECT_URL_PORT')\n",
    "api_version = os.getenv('API_VERSION')\n",
    "\n",
    "app = PublicClientApplication(\n",
    "   client_id,\n",
    "   authority= f\"https://login.microsoftonline.com/{tenant_id}\",   \n",
    ")\n",
    "\n",
    "result = None\n",
    "\n",
    " # If no cached tokens or user interaction needed, acquire tokens interactively\n",
    "if not result:\n",
    "    result = app.acquire_token_interactive(scopes=[\"https://api.fabric.microsoft.com/Lakehouse.Execute.All\", \"https://api.fabric.microsoft.com/Lakehouse.Read.All\", \"https://api.fabric.microsoft.com/Item.ReadWrite.All\", \n",
    "                                                \"https://api.fabric.microsoft.com/Workspace.ReadWrite.All\", \"https://api.fabric.microsoft.com/Code.AccessStorage.All\", \"https://api.fabric.microsoft.com/Code.AccessAzureKeyvault.All\", \n",
    "                                                \"https://api.fabric.microsoft.com/Code.AccessAzureDataExplorer.All\", \"https://api.fabric.microsoft.com/Code.AccessAzureDataLake.All\", \"https://api.fabric.microsoft.com/Code.AccessFabric.All\"],\n",
    "                                                port=f\"{redirect_url_port}\")\n",
    "\n",
    "# Get the access token\n",
    "if \"access_token\" in result:\n",
    "    access_token = result[\"access_token\"]\n",
    "else:\n",
    "    print(result.get(\"error\"))"
   ]
  },
  {
   "cell_type": "code",
   "execution_count": null,
   "metadata": {},
   "outputs": [],
   "source": [
    "print(access_token)"
   ]
  },
  {
   "cell_type": "markdown",
   "metadata": {},
   "source": [
    "## Request a Livy Session"
   ]
  },
  {
   "cell_type": "code",
   "execution_count": 3,
   "metadata": {},
   "outputs": [
    {
     "name": "stdout",
     "output_type": "stream",
     "text": [
      "The request to create the Livy session is submitted:{'id': '462fe66a-9858-408c-813c-b848da3d9e60', 'artifactId': '0db8ae59-a739-4b50-844c-ee2be3519871'}\n",
      "462fe66a-9858-408c-813c-b848da3d9e60\n"
     ]
    }
   ],
   "source": [
    "if access_token:\n",
    "   api_base_url_mist='https://api.fabric.microsoft.com/v1'\n",
    "   livy_base_url = api_base_url_mist + \"/workspaces/\"+workspace_id+\"/lakehouses/\"+lakehouse_id +\"/livyApi/versions/\"+api_version+\"/sessions\"\n",
    "   headers = {\"Authorization\": \"Bearer \" + access_token}\n",
    "\n",
    "# Create a Livy session\n",
    "create_livy_session = requests.post(livy_base_url, headers=headers, json={\n",
    "  \"name\": \"test pyspark session from python code\",\n",
    "  \"archives\": [],\n",
    "  \"conf\": {    \n",
    "  },\n",
    "  \"tags\": {\n",
    "  },\n",
    "  \"driverMemory\": \"7g\",\n",
    "  \"driverCores\": 1,\n",
    "  \"executorMemory\": \"7g\",\n",
    "  \"executorCores\": 1,\n",
    "  \"numExecutors\": 2\n",
    "})\n",
    "print('The request to create the Livy session is submitted:' + str(create_livy_session.json()))\n",
    "\n",
    "livy_session_id = create_livy_session.json()['id']\n",
    "print(livy_session_id)\n"
   ]
  },
  {
   "cell_type": "markdown",
   "metadata": {},
   "source": [
    "## List Livy Sessions"
   ]
  },
  {
   "cell_type": "code",
   "execution_count": null,
   "metadata": {},
   "outputs": [],
   "source": [
    "livy_session_url = livy_base_url\n",
    "get_sessions_response = requests.get(livy_session_url, headers=headers)\n",
    "print(get_sessions_response.json())"
   ]
  },
  {
   "cell_type": "markdown",
   "metadata": {},
   "source": [
    "## Get details of a Livy Session"
   ]
  },
  {
   "cell_type": "code",
   "execution_count": null,
   "metadata": {},
   "outputs": [],
   "source": [
    "livy_session_url = livy_base_url + \"/\" + livy_session_id\n",
    "get_session_response = requests.get(livy_session_url, headers=headers)\n",
    "\n",
    "while get_session_response.json()[\"state\"] != \"idle\":\n",
    "    time.sleep(5)\n",
    "    get_session_response = requests.get(livy_session_url, headers=headers)\n",
    "    print(get_session_response.json())\n",
    "    \n",
    "print(get_session_response.json())"
   ]
  },
  {
   "cell_type": "markdown",
   "metadata": {},
   "source": [
    "## Execute a statement on a Spark session - Local dataframe"
   ]
  },
  {
   "cell_type": "code",
   "execution_count": null,
   "metadata": {},
   "outputs": [],
   "source": [
    "\n",
    "# call get session API\n",
    "livy_session_url = livy_base_url + \"/\" + livy_session_id\n",
    "get_session_response = requests.get(livy_session_url, headers=headers)\n",
    "print(get_session_response.json())\n",
    "while get_session_response.json()[\"state\"] != \"idle\":\n",
    "    time.sleep(5)\n",
    "    get_session_response = requests.get(livy_session_url, headers=headers)\n",
    "\n",
    "execute_statement = livy_session_url + \"/statements\"\n",
    "code =\"\"\"\n",
    "df = spark.createDataFrame([{\"id\": 1, \"name\": \"Mounir\"}])\n",
    "df.show()\n",
    "\"\"\"\n",
    "execute_statement_response = requests.post(execute_statement, headers=headers, json={\n",
    "    \"code\": f\"{code}\",\n",
    "    \"kind\": \"pyspark\"\n",
    "    })\n",
    "print('the statement code is submitted as: ' + str(execute_statement_response.json()))\n",
    "\n",
    "statement_id = str(execute_statement_response.json()['id'])\n",
    "get_statement = livy_session_url+ \"/statements/\" + statement_id\n",
    "get_statement_response = requests.get(get_statement, headers=headers)\n",
    "\n",
    "while get_statement_response.json()[\"state\"] != \"available\":\n",
    "    # Sleep for 5 seconds before making the next request\n",
    "    time.sleep(5)\n",
    "    print('the statement code is submitted and running : ' + str(execute_statement_response.json()))\n",
    "\n",
    "    # Make the next request\n",
    "    get_statement_response = requests.get(get_statement, headers=headers)\n",
    "\n",
    "rst = get_statement_response.json()['output']['data']['text/plain']\n",
    "print(rst)"
   ]
  },
  {
   "cell_type": "markdown",
   "metadata": {},
   "source": [
    "## Execute a statement on a Spark session - Data on the LakeHouse"
   ]
  },
  {
   "cell_type": "code",
   "execution_count": null,
   "metadata": {},
   "outputs": [],
   "source": [
    "# call get session API\n",
    "livy_session_url = livy_base_url + \"/\" + livy_session_id\n",
    "get_session_response = requests.get(livy_session_url, headers=headers)\n",
    "print(get_session_response.json())\n",
    "while get_session_response.json()[\"state\"] != \"idle\":\n",
    "    time.sleep(5)\n",
    "    get_session_response = requests.get(livy_session_url, headers=headers)\n",
    "\n",
    "execute_statement = livy_session_url + \"/statements\"\n",
    "code =\"\"\"\n",
    "df = spark.sql(\"SELECT count(*) as Total, AGE FROM person GROUP BY AGE\").show()\n",
    "df.show()\n",
    "\"\"\"\n",
    "execute_statement_response = requests.post(execute_statement, headers=headers, json={\n",
    "    \"code\": f\"{code}\",\n",
    "    \"kind\": \"pyspark\"\n",
    "    })\n",
    "print('the statement code is submitted as: ' + str(execute_statement_response.json()))\n",
    "\n",
    "statement_id = str(execute_statement_response.json()['id'])\n",
    "get_statement = livy_session_url+ \"/statements/\" + statement_id\n",
    "get_statement_response = requests.get(get_statement, headers=headers)\n",
    "\n",
    "while get_statement_response.json()[\"state\"] != \"available\":\n",
    "    # Sleep for 5 seconds before making the next request\n",
    "    time.sleep(5)\n",
    "    print('the statement code is submitted and running : ' + str(execute_statement_response.json()))\n",
    "\n",
    "    # Make the next request\n",
    "    get_statement_response = requests.get(get_statement, headers=headers)\n",
    "\n",
    "rst = get_statement_response.json()['output']['data']['text/plain']\n",
    "print(rst)"
   ]
  },
  {
   "cell_type": "markdown",
   "metadata": {},
   "source": [
    "## Stop and delete a Livy Session"
   ]
  },
  {
   "cell_type": "code",
   "execution_count": 9,
   "metadata": {},
   "outputs": [
    {
     "name": "stdout",
     "output_type": "stream",
     "text": [
      "<Response [200]>\n"
     ]
    }
   ],
   "source": [
    "livy_session_url = livy_base_url + \"/\" + livy_session_id\n",
    "\n",
    "delete_session_response = requests.delete(livy_session_url, headers=headers)\n",
    "print(delete_session_response)"
   ]
  }
 ],
 "metadata": {
  "kernelspec": {
   "display_name": "python3.10.11",
   "language": "python",
   "name": "python3"
  },
  "language_info": {
   "codemirror_mode": {
    "name": "ipython",
    "version": 3
   },
   "file_extension": ".py",
   "mimetype": "text/x-python",
   "name": "python",
   "nbconvert_exporter": "python",
   "pygments_lexer": "ipython3",
   "version": "3.10.11"
  }
 },
 "nbformat": 4,
 "nbformat_minor": 2
}
